{
  "nbformat": 4,
  "nbformat_minor": 0,
  "metadata": {
    "colab": {
      "name": "Probability.ipynb",
      "version": "0.3.2",
      "provenance": [],
      "include_colab_link": true
    },
    "kernelspec": {
      "name": "python3",
      "display_name": "Python 3"
    }
  },
  "cells": [
    {
      "cell_type": "markdown",
      "metadata": {
        "id": "view-in-github",
        "colab_type": "text"
      },
      "source": [
        "<a href=\"https://colab.research.google.com/github/vbloise3/Data_Science/blob/master/Probability.ipynb\" target=\"_parent\"><img src=\"https://colab.research.google.com/assets/colab-badge.svg\" alt=\"Open In Colab\"/></a>"
      ]
    },
    {
      "cell_type": "code",
      "metadata": {
        "id": "IlzUyJQ2J8Rk",
        "colab_type": "code",
        "colab": {
          "base_uri": "https://localhost:8080/",
          "height": 53
        },
        "outputId": "70fca68d-3035-4b4c-ceff-d2e348360230"
      },
      "source": [
        "import enum, random # An Enum is a typed set of enumerated values. We can use them \n",
        "# to make our code more descriptive and readable.\n",
        "\n",
        "class Kid( enum.Enum): \n",
        "  BOY = 0 \n",
        "  GIRL = 1\n",
        "\n",
        "def random_kid()-> Kid: \n",
        "  return random.choice([ Kid.BOY, Kid.GIRL])\n",
        "\n",
        "both_girls = 0 \n",
        "older_girl = 0 \n",
        "either_girl = 0\n",
        "\n",
        "random.seed( 0)\n",
        "\n",
        "for _ in range( 10000): \n",
        "  younger = random_kid() \n",
        "  older = random_kid() \n",
        "  if older == Kid.GIRL: \n",
        "    older_girl += 1 \n",
        "  if older == Kid.GIRL and younger == Kid.GIRL: \n",
        "    both_girls += 1 \n",
        "  if older == Kid.GIRL or younger == Kid.GIRL:\n",
        "    either_girl += 1\n",
        "\n",
        "print(\" P( both | older):\", both_girls / older_girl) # 0.514 ~ 1/2 \n",
        "print(\" P( both | either): \", both_girls / either_girl) # 0.342 ~ 1/3\n",
        "\n",
        "# probabilty "
      ],
      "execution_count": 2,
      "outputs": [
        {
          "output_type": "stream",
          "text": [
            " P( both | older): 0.5007089325501317\n",
            " P( both | either):  0.3311897106109325\n"
          ],
          "name": "stdout"
        }
      ]
    }
  ]
}