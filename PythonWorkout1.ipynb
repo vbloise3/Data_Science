{
  "nbformat": 4,
  "nbformat_minor": 0,
  "metadata": {
    "colab": {
      "name": "PythonWorkout1.ipynb",
      "version": "0.3.2",
      "provenance": [],
      "include_colab_link": true
    },
    "kernelspec": {
      "name": "python3",
      "display_name": "Python 3"
    }
  },
  "cells": [
    {
      "cell_type": "markdown",
      "metadata": {
        "id": "view-in-github",
        "colab_type": "text"
      },
      "source": [
        "<a href=\"https://colab.research.google.com/github/vbloise3/Data_Science/blob/master/PythonWorkout1.ipynb\" target=\"_parent\"><img src=\"https://colab.research.google.com/assets/colab-badge.svg\" alt=\"Open In Colab\"/></a>"
      ]
    },
    {
      "cell_type": "code",
      "metadata": {
        "id": "BVp6j0e3kyb1",
        "colab_type": "code",
        "colab": {
          "base_uri": "https://localhost:8080/",
          "height": 68
        },
        "outputId": "0a8915bf-555c-476f-da81-0338e172a852"
      },
      "source": [
        "# word = input(\"Enter a word, loser! \")\n",
        "word = 'arse'\n",
        "output = []\n",
        "for letter in word:\n",
        "  if letter in 'aeiou':\n",
        "    output.append(f'ub{letter}')\n",
        "  else:\n",
        "    output.append(letter)\n",
        "print(''.join(output))\n",
        "\n",
        "def firstlast(sequence):\n",
        "  return sequence[:1] + sequence[-1:]\n",
        "print(f\"seq: {firstlast('123456')}\\n\")"
      ],
      "execution_count": 6,
      "outputs": [
        {
          "output_type": "stream",
          "text": [
            "ubarsube\n",
            "seq: 16\n",
            "\n"
          ],
          "name": "stdout"
        }
      ]
    }
  ]
}