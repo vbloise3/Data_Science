{
  "nbformat": 4,
  "nbformat_minor": 0,
  "metadata": {
    "colab": {
      "name": "PythonWorkout1.ipynb",
      "version": "0.3.2",
      "provenance": [],
      "include_colab_link": true
    },
    "kernelspec": {
      "name": "python3",
      "display_name": "Python 3"
    }
  },
  "cells": [
    {
      "cell_type": "markdown",
      "metadata": {
        "id": "view-in-github",
        "colab_type": "text"
      },
      "source": [
        "<a href=\"https://colab.research.google.com/github/vbloise3/Data_Science/blob/master/PythonWorkout1.ipynb\" target=\"_parent\"><img src=\"https://colab.research.google.com/assets/colab-badge.svg\" alt=\"Open In Colab\"/></a>"
      ]
    },
    {
      "cell_type": "code",
      "metadata": {
        "id": "BVp6j0e3kyb1",
        "colab_type": "code",
        "colab": {
          "base_uri": "https://localhost:8080/",
          "height": 55
        },
        "outputId": "b830a236-1e54-48ef-d6a0-5b7297f91945"
      },
      "source": [
        "word = input(\"Enter a word, loser! \")\n",
        "\n",
        "output = []\n",
        "for letter in word:\n",
        "  if letter in 'aeiou':\n",
        "    output.append(f'ub{letter}')\n",
        "  else:\n",
        "    output.append(letter)\n",
        "print(''.join(output))\n",
        "\n"
      ],
      "execution_count": 2,
      "outputs": [
        {
          "output_type": "stream",
          "text": [
            "Enter a word, loser! Yose\n",
            "Yubosube\n"
          ],
          "name": "stdout"
        }
      ]
    }
  ]
}