{
  "nbformat": 4,
  "nbformat_minor": 0,
  "metadata": {
    "colab": {
      "name": "PythonWorkoutChapter1.ipynb",
      "version": "0.3.2",
      "provenance": [],
      "include_colab_link": true
    },
    "kernelspec": {
      "name": "python3",
      "display_name": "Python 3"
    }
  },
  "cells": [
    {
      "cell_type": "markdown",
      "metadata": {
        "id": "view-in-github",
        "colab_type": "text"
      },
      "source": [
        "<a href=\"https://colab.research.google.com/github/vbloise3/Data_Science/blob/master/PythonWorkoutChapter1.ipynb\" target=\"_parent\"><img src=\"https://colab.research.google.com/assets/colab-badge.svg\" alt=\"Open In Colab\"/></a>"
      ]
    },
    {
      "cell_type": "code",
      "metadata": {
        "id": "-YxyxFQ4PEIX",
        "colab_type": "code",
        "colab": {
          "base_uri": "https://localhost:8080/",
          "height": 75
        },
        "outputId": "2e285ca2-2637-427c-8910-d2b53a6ecdde"
      },
      "source": [
        "number_of_runs = 0 \n",
        "total_time = 0 \n",
        "while True:\n",
        "  one_run = input(\"Enter 10 km run time, or 'q' to exit: \")\n",
        "  if one_run == 'q' or one_run == 'Q':\n",
        "    break\n",
        "  else:\n",
        "    number_of_runs += 1\n",
        "    total_time += float(one_run)\n",
        "average_time = total_time / number_of_runs\n",
        "print(f\"Average of {average_time}, over {number_of_runs} runs\")"
      ],
      "execution_count": 7,
      "outputs": [
        {
          "output_type": "stream",
          "text": [
            "Enter 10 km run time, or 'q' to exit: 25.54\n",
            "Enter 10 km run time, or 'q' to exit: Q\n",
            "Average of 25.54, over 1 runs\n"
          ],
          "name": "stdout"
        }
      ]
    }
  ]
}