{
  "nbformat": 4,
  "nbformat_minor": 0,
  "metadata": {
    "colab": {
      "name": "Linear Algebra.ipynb",
      "version": "0.3.2",
      "provenance": [],
      "include_colab_link": true
    },
    "kernelspec": {
      "name": "python3",
      "display_name": "Python 3"
    }
  },
  "cells": [
    {
      "cell_type": "markdown",
      "metadata": {
        "id": "view-in-github",
        "colab_type": "text"
      },
      "source": [
        "<a href=\"https://colab.research.google.com/github/vbloise3/Data_Science/blob/master/Linear_Algebra.ipynb\" target=\"_parent\"><img src=\"https://colab.research.google.com/assets/colab-badge.svg\" alt=\"Open In Colab\"/></a>"
      ]
    },
    {
      "cell_type": "code",
      "metadata": {
        "id": "rvMwbQ415jKk",
        "colab_type": "code",
        "outputId": "5239ac4b-c13b-4bb1-e1ba-1058ccc3d943",
        "colab": {
          "base_uri": "https://localhost:8080/",
          "height": 71
        }
      },
      "source": [
        "import sys\n",
        "!{sys.executable} -m pip install numpy\n",
        "import numpy as np\n",
        "from collections import Counter\n",
        "from collections import defaultdict\n",
        "from keras.models import Sequential\n",
        "from keras.layers import Dense\n",
        "\n",
        "# Linear Algebra\n",
        "from typing import List \n",
        "Vector = List[ float]\n",
        "height_weight_age = [70, # inches, \n",
        "                     170, # pounds,\n",
        "                     40 ] # years\n",
        "grades = [95, # exam1 \n",
        "          80, # exam2 \n",
        "          75, # exam3 \n",
        "          62 ] # exam4\n",
        "def add( v: Vector, w: Vector)-> Vector: \n",
        "  \"\"\" Adds corresponding elements\"\"\" \n",
        "  assert len( v) == len( w), \"vectors must be the same length\"\n",
        "  return [v_i + w_i for v_i, w_i in zip( v, w)]\n",
        "\n",
        "assert add([ 1, 2, 3], [4, 5, 6]) == [5, 7, 9]\n",
        "\n",
        "def subtract( v: Vector, w: Vector)-> Vector:\n",
        "   \"\"\" Subtracts corresponding elements\"\"\" \n",
        "   assert len( v) == len( w), \"vectors must be the same length\" \n",
        "   return [v_i - w_i for v_i, w_i in zip( v, w)]\n",
        "\n",
        "assert subtract([ 5, 7, 9], [4, 5, 6]) == [1, 2, 3]\n",
        "\n",
        "def vector_sum( vectors: List[ Vector])-> Vector: \n",
        "  \"\"\" Sums all corresponding elements\"\"\" \n",
        "  # Check that vectors is not empty \n",
        "  assert vectors, \"no vectors provided!\" \n",
        "  # Check the vectors are all the same size \n",
        "  num_elements = len( vectors[ 0]) \n",
        "  assert all( len( v) == num_elements for v in vectors), \"different sizes!\" \n",
        "  # the i-th element of the result is the sum of every vector[i] \n",
        "  return [sum( vector[ i] for vector in vectors) for i in range( num_elements)]\n",
        "\n",
        "assert vector_sum([[ 1, 2], [3, 4], [5, 6], [7, 8]]) == [16, 20]\n",
        "print(f\"vector_sum: {vector_sum}\\n\")"
      ],
      "execution_count": 0,
      "outputs": [
        {
          "output_type": "stream",
          "text": [
            "Requirement already satisfied: numpy in /usr/local/lib/python3.6/dist-packages (1.16.4)\n",
            "vector_sum: <function vector_sum at 0x7fe2b1a877b8>\n",
            "\n"
          ],
          "name": "stdout"
        }
      ]
    }
  ]
}