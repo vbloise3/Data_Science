{
  "nbformat": 4,
  "nbformat_minor": 0,
  "metadata": {
    "colab": {
      "name": "Linear Algebra.ipynb",
      "version": "0.3.2",
      "provenance": [],
      "include_colab_link": true
    },
    "kernelspec": {
      "name": "python3",
      "display_name": "Python 3"
    }
  },
  "cells": [
    {
      "cell_type": "markdown",
      "metadata": {
        "id": "view-in-github",
        "colab_type": "text"
      },
      "source": [
        "<a href=\"https://colab.research.google.com/github/vbloise3/Data_Science/blob/master/Linear_Algebra.ipynb\" target=\"_parent\"><img src=\"https://colab.research.google.com/assets/colab-badge.svg\" alt=\"Open In Colab\"/></a>"
      ]
    },
    {
      "cell_type": "code",
      "metadata": {
        "id": "rvMwbQ415jKk",
        "colab_type": "code",
        "outputId": "b6665b8c-d674-41f7-f03b-9f4ef8fd801f",
        "colab": {
          "base_uri": "https://localhost:8080/",
          "height": 204
        }
      },
      "source": [
        "import sys\n",
        "!{sys.executable} -m pip install numpy\n",
        "import numpy as np\n",
        "from collections import Counter\n",
        "from collections import defaultdict\n",
        "from keras.models import Sequential\n",
        "from keras.layers import Dense\n",
        "import math \n",
        "\n",
        "# Linear Algebra\n",
        "from typing import List \n",
        "Vector = List[ float]\n",
        "height_weight_age = [70, # inches, \n",
        "                     170, # pounds,\n",
        "                     40 ] # years\n",
        "grades = [95, # exam1 \n",
        "          80, # exam2 \n",
        "          75, # exam3 \n",
        "          62 ] # exam4\n",
        "def add( v: Vector, w: Vector)-> Vector: \n",
        "  \"\"\" Adds corresponding elements\"\"\" \n",
        "  assert len( v) == len( w), \"vectors must be the same length\"\n",
        "  return [v_i + w_i for v_i, w_i in zip( v, w)]\n",
        "\n",
        "assert add([ 1, 2, 3], [4, 5, 6]) == [5, 7, 9]\n",
        "\n",
        "def subtract( v: Vector, w: Vector)-> Vector:\n",
        "   \"\"\" Subtracts corresponding elements\"\"\" \n",
        "   assert len( v) == len( w), \"vectors must be the same length\" \n",
        "   return [v_i - w_i for v_i, w_i in zip( v, w)]\n",
        "\n",
        "assert subtract([ 5, 7, 9], [4, 5, 6]) == [1, 2, 3]\n",
        "\n",
        "def vector_sum( vectors: List[ Vector])-> Vector: \n",
        "  \"\"\" Sums all corresponding elements\"\"\" \n",
        "  # Check that vectors is not empty \n",
        "  assert vectors, \"no vectors provided!\" \n",
        "  # Check the vectors are all the same size \n",
        "  num_elements = len( vectors[ 0]) \n",
        "  assert all( len( v) == num_elements for v in vectors), \"different sizes!\" \n",
        "  # the i-th element of the result is the sum of every vector[i] \n",
        "  return [sum( vector[ i] for vector in vectors) for i in range( num_elements)]\n",
        "\n",
        "sum_of_vectors = vector_sum([[1, 2], [3, 4], [5, 6], [7, 8]])\n",
        "assert sum_of_vectors == [16, 20]\n",
        "print(f\"vector_sum: {sum_of_vectors}\\n\")\n",
        "num_elements = len(sum_of_vectors)\n",
        "print(f\"added this from my phone: {num_elements}\\n\")\n",
        "\n",
        "def scalar_multiply( c: float , v: Vector ) -> Vector: \n",
        "  \"\"\"Multiplies every element by c\"\"\" \n",
        "  return [ c * v_i for v_i in v ] \n",
        "\n",
        "assert scalar_multiply( 2 , [ 1 , 2 , 3 ]) == [ 2 , 4 , 6 ] \n",
        "print(f\"scalar_multiply(2 , [ 1 , 2 , 3 ]): {scalar_multiply( 2 , [ 1 , 2 , 3 ])}\\n\")\n",
        "\n",
        "def vector_mean( vectors: List [ Vector ]) -> Vector: \n",
        "  \"\"\"Computes the element-wise average\"\"\" \n",
        "  n = len( vectors ) \n",
        "  return scalar_multiply( 1 / n , vector_sum( vectors )) \n",
        "\n",
        "assert vector_mean([[ 1 , 2 ], [ 3 , 4 ], [ 5 , 6 ]]) == [ 3 , 4 ] \n",
        "\n",
        "def dot( v: Vector , w: Vector ) -> float: \n",
        "  \"\"\"Computes v_1 * w_1 + ... + v_n * w_n\"\"\" \n",
        "  assert len( v ) == len( w ), \"vectors must be same length\" \n",
        "  return sum( v_i * w_i for v_i , w_i in zip( v , w )) \n",
        "\n",
        "assert dot([ 1 , 2 , 3 ], [ 4 , 5 , 6 ]) == 32 # 1 * 4 + 2 * 5 + 3 * 6 \n",
        "\n",
        "def sum_of_squares( v: Vector ) -> float: \n",
        "  \"\"\"Returns v_1 * v_1 + ... + v_n * v_n\"\"\" \n",
        "  return dot( v , v ) \n",
        "\n",
        "assert sum_of_squares ([ 1 , 2 , 3 ]) == 14 # 1 * 1 + 2 * 2 + 3 * 3 \n",
        "\n",
        "def magnitude( v: Vector ) -> float: \n",
        "  \"\"\"Returns the magnitude (or length) of v\"\"\" \n",
        "  return math.sqrt( sum_of_squares( v )) # math.sqrt is square root function \n",
        "\n",
        "assert magnitude ([ 3 , 4 ]) == 5 \n",
        "print(f\"magnitude of [ 3 , 4 ]: {magnitude([ 3 , 4 ])}\\n\")\n",
        "\n",
        "def squared_distance( v: Vector , w: Vector ) -> float: \n",
        "  \"\"\"Computes (v_1 - w_1) ** 2 + ... + (v_n - w_n) ** 2\"\"\" \n",
        "  return sum_of_squares( subtract( v , w )) \n",
        "\n",
        "def distance( v: Vector , w: Vector ) -> float: \n",
        "  \"\"\"Computes the distance between v and w\"\"\" \n",
        "  return magnitude( subtract( v , w )) \n",
        "\n",
        "print(f\"distance between [1, 2] and [3, 4]: {distance([1, 2], [3, 4])}\\n\")"
      ],
      "execution_count": 10,
      "outputs": [
        {
          "output_type": "stream",
          "text": [
            "Requirement already satisfied: numpy in /usr/local/lib/python3.6/dist-packages (1.16.4)\n",
            "vector_sum: [16, 20]\n",
            "\n",
            "added this from my phone: 2\n",
            "\n",
            "scalar_multiply(2 , [ 1 , 2 , 3 ]): [2, 4, 6]\n",
            "\n",
            "magnitude of [ 3 , 4 ]: 5.0\n",
            "\n",
            "distance between [1, 2] and [3, 4]: 2.8284271247461903\n",
            "\n"
          ],
          "name": "stdout"
        }
      ]
    }
  ]
}