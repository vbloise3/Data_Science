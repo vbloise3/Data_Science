{
  "nbformat": 4,
  "nbformat_minor": 0,
  "metadata": {
    "colab": {
      "name": "Statistics.ipynb",
      "version": "0.3.2",
      "provenance": [],
      "include_colab_link": true
    },
    "kernelspec": {
      "name": "python3",
      "display_name": "Python 3"
    }
  },
  "cells": [
    {
      "cell_type": "markdown",
      "metadata": {
        "id": "view-in-github",
        "colab_type": "text"
      },
      "source": [
        "<a href=\"https://colab.research.google.com/github/vbloise3/Data_Science/blob/master/Statistics.ipynb\" target=\"_parent\"><img src=\"https://colab.research.google.com/assets/colab-badge.svg\" alt=\"Open In Colab\"/></a>"
      ]
    },
    {
      "cell_type": "code",
      "metadata": {
        "id": "63OyBmZ6aCEJ",
        "colab_type": "code",
        "colab": {
          "base_uri": "https://localhost:8080/",
          "height": 639
        },
        "outputId": "fe46555f-b6ff-4658-e18d-a2ad8229592b"
      },
      "source": [
        "from collections import Counter \n",
        "import matplotlib.pyplot as plt \n",
        "from typing import List\n",
        "num_friends = [100.0,49,41,40,25,21,21,19,19,18,18,16,15,15,15,15,14,14,13,13,13,13,12,12,11,10,10,10,10,10,10,10,10,10,10,10,10,10,10,10,9,9,9,9,9,9,9,9,9,9,9,9,9,9,9,9,9,9,8,8,8,8,8,8,8,8,8,8,8,8,8,7,7,7,7,7,7,7,7,7,7,7,7,7,7,7,6,6,6,6,6,6,6,6,6,6,6,6,6,6,6,6,6,6,6,6,6,6,5,5,5,5,5,5,5,5,5,5,5,5,5,5,5,5,5,4,4,4,4,4,4,4,4,4,4,4,4,4,4,4,4,4,4,4,4,3,3,3,3,3,3,3,3,3,3,3,3,3,3,3,3,3,3,3,3,2,2,2,2,2,2,2,2,2,2,2,2,2,2,2,2,2,1,1,1,1,1,1,1,1,1,1,1,1,1,1,1,1,1,1,1,1,1,1]\n",
        "friend_counts = Counter( num_friends) \n",
        "print(f\"friend_counts: {friend_counts}\\n\")\n",
        "xs = range( 101) # largest value is 100 \n",
        "print(f\"range(100): {xs}\\n\")\n",
        "ys = [friend_counts[ x] for x in xs] # height is just # of friends \n",
        "plt.bar( xs, ys) \n",
        "plt.axis([ 0, 101, 0, 25]) \n",
        "plt.title(\" Histogram of Friend Counts\") \n",
        "plt.xlabel(\"# of friends\") \n",
        "plt.ylabel(\"# of people\") \n",
        "plt.show()\n",
        "\n",
        "num_points = len( num_friends) # 204\n",
        "largest_value = max( num_friends) # 100 \n",
        "smallest_value = min( num_friends) # 1\n",
        "sorted_values = sorted( num_friends) \n",
        "smallest_value = sorted_values[ 0] # 1 \n",
        "second_smallest_value = sorted_values[ 1] # 1 \n",
        "second_largest_value = sorted_values[-2] # 49\n",
        "\n",
        "def mean( xs: List[ float])-> float: \n",
        "  return sum( xs) / len( xs) \n",
        "\n",
        "mean( num_friends) # 7.333333\n",
        "print(f\"mean num_)friends: {mean(num_friends)}\\n\")\n",
        "\n",
        "# The underscores indicate that these are \"private\" functions, as they're \n",
        "# intended to be called by our median function but not by other people \n",
        "# using our statistics library.\n",
        "def _median_odd( xs: List[ float])-> float: \n",
        "  \"\"\" If len( xs) is odd, the median is the middle element\"\"\" \n",
        "  return sorted( xs)[ len( xs) // 2]\n",
        "def _median_even( xs: List[ float])-> float: \n",
        "  \"\"\" If len( xs) is even, it's the average of the middle two elements\"\"\" \n",
        "  sorted_xs = sorted( xs) \n",
        "  hi_midpoint = len( xs) // 2 # e.g. length 4 => hi_midpoint 2\n",
        "  return (sorted_xs[ hi_midpoint-1] + sorted_xs[ hi_midpoint]) / 2\n",
        "def median( v: List[ float])-> float: \n",
        "  \"\"\" Finds the 'middle-most' value of v\"\"\" \n",
        "  return _median_even( v) if len( v) % 2 == 0 else _median_odd( v)\n",
        "\n",
        "print(f\"len([1, 2, 3, 4]) // 2: {len([1, 2, 3, 4]) // 2}\\n\")\n",
        "print(f\"len([1, 2, 3, 4, 5]) // 2: {len([1, 2, 3, 4, 5]) // 2}\\n\")\n",
        "assert median([ 1, 10, 2, 9, 5]) == 5 \n",
        "assert median([ 1, 9, 2, 10]) == (2 + 9) / 2\n",
        "\n",
        "print(f\"median of num_friends: {median( num_friends)}\\n\") # 6\n",
        "\n",
        "def quantile( xs: List[ float], p: float)-> float: \n",
        "  \"\"\" Returns the pth-percentile value in x\"\"\" \n",
        "  p_index = int( p * len( xs)) \n",
        "  return sorted( xs)[ p_index]\n",
        "\n",
        "assert quantile( num_friends, 0.10) == 1 \n",
        "assert quantile( num_friends, 0.25) == 3 \n",
        "assert quantile( num_friends, 0.75) == 9 \n",
        "assert quantile( num_friends, 0.90) == 13\n",
        "print(f\"quantile num_friends 0.50: {quantile(num_friends, 0.50)}\\n\")\n",
        "print(f\"quantile num_friends 0.90: {quantile(num_friends, 0.90)}\\n\")\n",
        "\n",
        "def mode( x: List[ float])-> List[ float]: \n",
        "  \"\"\" Returns a list, since there might be more than one mode\"\"\" \n",
        "  counts = Counter( x) \n",
        "  max_count = max( counts.values()) \n",
        "  return [x_i for x_i, count in counts.items() if count == max_count]\n",
        "\n",
        "assert set( mode( num_friends)) == {1, 6}\n",
        "print(f\"mode of num_friends: {set( mode( num_friends))}\\n\")"
      ],
      "execution_count": 11,
      "outputs": [
        {
          "output_type": "stream",
          "text": [
            "friend_counts: Counter({6: 22, 1: 22, 4: 20, 3: 20, 9: 18, 5: 17, 2: 17, 10: 15, 7: 15, 8: 13, 15: 4, 13: 4, 21: 2, 19: 2, 18: 2, 14: 2, 12: 2, 100.0: 1, 49: 1, 41: 1, 40: 1, 25: 1, 16: 1, 11: 1})\n",
            "\n",
            "range(100): range(0, 101)\n",
            "\n"
          ],
          "name": "stdout"
        },
        {
          "output_type": "display_data",
          "data": {
            "image/png": "[encoded data removed]",
            "text/plain": [
              "<Figure size 432x288 with 1 Axes>"
            ]
          },
          "metadata": {
            "tags": []
          }
        },
        {
          "output_type": "stream",
          "text": [
            "mean num_)friends: 7.333333333333333\n",
            "\n",
            "len([1, 2, 3, 4]) // 2: 2\n",
            "\n",
            "len([1, 2, 3, 4, 5]) // 2: 2\n",
            "\n",
            "median of num_friends: 6.0\n",
            "\n",
            "quantile num_friends 0.50: 6\n",
            "\n",
            "quantile num_friends 0.90: 13\n",
            "\n",
            "mode of num_friends: {1, 6}\n",
            "\n"
          ],
          "name": "stdout"
        }
      ]
    }
  ]
}