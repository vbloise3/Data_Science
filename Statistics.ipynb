{
  "nbformat": 4,
  "nbformat_minor": 0,
  "metadata": {
    "colab": {
      "name": "Statistics.ipynb",
      "version": "0.3.2",
      "provenance": [],
      "include_colab_link": true
    },
    "kernelspec": {
      "name": "python3",
      "display_name": "Python 3"
    }
  },
  "cells": [
    {
      "cell_type": "markdown",
      "metadata": {
        "id": "view-in-github",
        "colab_type": "text"
      },
      "source": [
        "<a href=\"https://colab.research.google.com/github/vbloise3/Data_Science/blob/master/Statistics.ipynb\" target=\"_parent\"><img src=\"https://colab.research.google.com/assets/colab-badge.svg\" alt=\"Open In Colab\"/></a>"
      ]
    },
    {
      "cell_type": "code",
      "metadata": {
        "id": "63OyBmZ6aCEJ",
        "colab_type": "code",
        "colab": {}
      },
      "source": [
        "from collections import Counter \n",
        "import matplotlib.pyplot as plt \n",
        "friend_counts = Counter( num_friends) \n",
        "xs = range( 101) # largest value is 100 \n",
        "ys = [friend_counts[ x] for x in xs] # height is just # of friends \n",
        "plt.bar( xs, ys) \n",
        "plt.axis([ 0, 101, 0, 25]) \n",
        "plt.title(\" Histogram of Friend Counts\") \n",
        "plt.xlabel(\"# of friends\") \n",
        "plt.ylabel(\"# of people\") \n",
        "plt.show()"
      ],
      "execution_count": 0,
      "outputs": []
    }
  ]
}