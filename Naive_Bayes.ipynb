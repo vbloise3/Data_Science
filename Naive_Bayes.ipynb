{
  "nbformat": 4,
  "nbformat_minor": 0,
  "metadata": {
    "colab": {
      "name": "Naive_Bayes.ipynb",
      "version": "0.3.2",
      "provenance": [],
      "include_colab_link": true
    },
    "kernelspec": {
      "name": "python3",
      "display_name": "Python 3"
    }
  },
  "cells": [
    {
      "cell_type": "markdown",
      "metadata": {
        "id": "view-in-github",
        "colab_type": "text"
      },
      "source": [
        "<a href=\"https://colab.research.google.com/github/vbloise3/Data_Science/blob/master/Naive_Bayes.ipynb\" target=\"_parent\"><img src=\"https://colab.research.google.com/assets/colab-badge.svg\" alt=\"Open In Colab\"/></a>"
      ]
    },
    {
      "cell_type": "code",
      "metadata": {
        "id": "BhRqXdEyjXa5",
        "colab_type": "code",
        "colab": {
          "base_uri": "https://localhost:8080/",
          "height": 53
        },
        "outputId": "924a2957-5ed1-45f9-e8f0-e369c78d0901"
      },
      "source": [
        "from typing import Set\n",
        "import re\n",
        "\n",
        "def tokenize(text: str) -> Set[str]:\n",
        "  text = text.lower()\n",
        "  all_words = re.findall(\"[a-z0-9']+\", text)\n",
        "  return set(all_words) # remove all duplicates\n",
        "all_the_words = tokenize(\"Data science is science\") \n",
        "assert all_the_words == {\"data\", \"science\", \"is\"}\n",
        "print(f\"all_the_words: {all_the_words}\\n\")"
      ],
      "execution_count": 4,
      "outputs": [
        {
          "output_type": "stream",
          "text": [
            "all_the_words: {'data', 'is', 'science'}\n",
            "\n"
          ],
          "name": "stdout"
        }
      ]
    }
  ]
}