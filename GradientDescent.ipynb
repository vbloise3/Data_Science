{
  "nbformat": 4,
  "nbformat_minor": 0,
  "metadata": {
    "colab": {
      "name": "GradientDescent.ipynb",
      "version": "0.3.2",
      "provenance": [],
      "collapsed_sections": [],
      "include_colab_link": true
    },
    "kernelspec": {
      "name": "python3",
      "display_name": "Python 3"
    }
  },
  "cells": [
    {
      "cell_type": "markdown",
      "metadata": {
        "id": "view-in-github",
        "colab_type": "text"
      },
      "source": [
        "<a href=\"https://colab.research.google.com/github/vbloise3/Data_Science/blob/master/GradientDescent.ipynb\" target=\"_parent\"><img src=\"https://colab.research.google.com/assets/colab-badge.svg\" alt=\"Open In Colab\"/></a>"
      ]
    },
    {
      "cell_type": "code",
      "metadata": {
        "id": "68Ra2koAZPwB",
        "colab_type": "code",
        "colab": {
          "base_uri": "https://localhost:8080/",
          "height": 461
        },
        "outputId": "43c75614-1158-44f8-d8d7-60118b4ee924"
      },
      "source": [
        "import random\n",
        "import math\n",
        "import matplotlib.pyplot as plt\n",
        "from typing import List\n",
        "from typing import Callable\n",
        "\n",
        "\n",
        "Vector = List[float]\n",
        "\n",
        "def dot(v: Vector, w: Vector) -> float:\n",
        "    \"\"\"Computes v_1 * w_1 + ... + v_n * w_n\"\"\"\n",
        "    assert len(v) == len(w), \"vectors must be same length\"\n",
        "\n",
        "    return sum(v_i * w_i for v_i, w_i in zip(v, w))\n",
        "\n",
        "def add(v: Vector, w: Vector) -> Vector:\n",
        "    \"\"\"Adds corresponding elements\"\"\"\n",
        "    assert len(v) == len(w), \"vectors must be the same length\"\n",
        "\n",
        "    return [v_i + w_i for v_i, w_i in zip(v, w)]\n",
        "\n",
        "def subtract(v: Vector, w: Vector) -> Vector:\n",
        "    \"\"\"Subtracts corresponding elements\"\"\"\n",
        "    assert len(v) == len(w), \"vectors must be the same length\"\n",
        "\n",
        "    return [v_i - w_i for v_i, w_i in zip(v, w)]\n",
        "\n",
        "def add(v: Vector, w: Vector) -> Vector:\n",
        "    \"\"\"Adds corresponding elements\"\"\"\n",
        "    assert len(v) == len(w), \"vectors must be the same length\"\n",
        "\n",
        "    return [v_i + w_i for v_i, w_i in zip(v, w)]\n",
        "\n",
        "def scalar_multiply(c: float, v: Vector) -> Vector:\n",
        "    \"\"\"Multiplies every element by c\"\"\"\n",
        "    return [c * v_i for v_i in v]\n",
        "\n",
        "def squared_distance(v: Vector, w: Vector) -> float:\n",
        "    \"\"\"Computes (v_1 - w_1) ** 2 + ... + (v_n - w_n) ** 2\"\"\"\n",
        "    return sum_of_squares(subtract(v, w))\n",
        "\n",
        "def distance(v: Vector, w: Vector) -> float:\n",
        "    \"\"\"Computes the distance between v and w\"\"\"\n",
        "    return math.sqrt(squared_distance(v, w))\n",
        "\n",
        "def sum_of_squares( v: Vector)-> float: \n",
        "  \"\"\" Computes the sum of squared elements in v\"\"\" \n",
        "  return dot( v, v)\n",
        "\n",
        "def difference_quotient( f: Callable[[ float], float], x: float, h: float)-> float: \n",
        "  return (f( x + h)-f( x)) / h\n",
        "  \n",
        "def square( x: float)-> float: \n",
        "  return x * x\n",
        "\n",
        "def derivative( x: float)-> float: \n",
        "  return 2 * x\n",
        "\n",
        "xs = range(-10, 11) \n",
        "actuals = [derivative( x) for x in xs] \n",
        "estimates = [difference_quotient( square, x, h = 0.001) for x in xs]\n",
        "\n",
        "# plot to show they're basically the same\n",
        "plt.title(\" Actual Derivatives vs. Estimates\") \n",
        "plt.plot( xs, actuals, 'rx', label =' Actual') # red x \n",
        "plt.plot( xs, estimates, 'b +', label =' Estimate') # blue + \n",
        "plt.legend( loc = 9) \n",
        "plt.show()\n",
        "\n",
        "def partial_difference_quotient( f: Callable[[ Vector], float], v: Vector, i: int, h: float)-> float: \n",
        "  \"\"\" Returns the i-th partial difference quotient of f at v\"\"\" \n",
        "  w = [v_j + (h if j == i else 0) # add h to just the ith element of v \n",
        "       for j, v_j in enumerate( v)] \n",
        "  return (f( w)-f( v)) / h\n",
        "\n",
        "def estimate_gradient( f: Callable[[ Vector], float], v: Vector, h: float = 0.0001): \n",
        "  return [partial_difference_quotient( f, v, i, h) for i in range( len( v))]\n",
        "\n",
        "def gradient_step( v: Vector, gradient: Vector, step_size: float)-> Vector: \n",
        "  \"\"\" Moves ` step_size ` in the ` gradient ` direction from ` v `\"\"\" \n",
        "  assert len( v) == len( gradient) \n",
        "  step = scalar_multiply( step_size, gradient) \n",
        "  return add( v, step)\n",
        "\n",
        "def sum_of_squares_gradient( v: Vector)-> Vector: \n",
        "  return [2 * v_i for v_i in v] \n",
        "\n",
        "# \"Using the Gradient\" example\n",
        "    \n",
        "# pick a random starting point\n",
        "v = [random.uniform(-10, 10) for i in range(3)]\n",
        "    \n",
        "for epoch in range(1000):\n",
        "    grad = sum_of_squares_gradient(v)    # compute the gradient at v\n",
        "    v = gradient_step(v, grad, -0.01)    # take a negative gradient step\n",
        "    if epoch % 100 == 0: \n",
        "      print(epoch, v)\n",
        "    \n",
        "assert distance(v, [0, 0, 0]) < 0.001    # v should be close to 0"
      ],
      "execution_count": 10,
      "outputs": [
        {
          "output_type": "display_data",
          "data": {
            "image/png": "[encoded data removed]",
            "text/plain": [
              "<Figure size 432x288 with 1 Axes>"
            ]
          },
          "metadata": {
            "tags": []
          }
        },
        {
          "output_type": "stream",
          "text": [
            "0 [7.608767876411721, 3.895025509871359, 6.409182407418442]\n",
            "100 [1.0090714166759869, 0.5165565533178743, 0.849982924520299]\n",
            "200 [0.13382260314565883, 0.0685055006955409, 0.11272435796800558]\n",
            "300 [0.01774749419785708, 0.009085169078590333, 0.014949454292238084]\n",
            "400 [0.002353664798764516, 0.0012048710884313947, 0.001982589989105527]\n",
            "500 [0.0003121419803372635, 0.0001597894686581996, 0.00026293020387655857]\n",
            "600 [4.1396130808436675e-05, 2.1191208370109034e-05, 3.48696868694261e-05]\n",
            "700 [5.489936483575985e-06, 2.8103686429170358e-06, 4.624402386812397e-06]\n",
            "800 [7.280729383422495e-07, 3.7270984132419764e-07, 6.132861908176966e-07]\n",
            "900 [9.655670974193716e-08, 4.9428613634019055e-08, 8.13337422626278e-08]\n"
          ],
          "name": "stdout"
        }
      ]
    }
  ]
}