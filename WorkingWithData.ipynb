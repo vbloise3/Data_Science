{
  "nbformat": 4,
  "nbformat_minor": 0,
  "metadata": {
    "colab": {
      "name": "WorkingWithData.ipynb",
      "version": "0.3.2",
      "provenance": [],
      "include_colab_link": true
    },
    "kernelspec": {
      "name": "python3",
      "display_name": "Python 3"
    }
  },
  "cells": [
    {
      "cell_type": "markdown",
      "metadata": {
        "id": "view-in-github",
        "colab_type": "text"
      },
      "source": [
        "<a href=\"https://colab.research.google.com/github/vbloise3/Data_Science/blob/master/WorkingWithData.ipynb\" target=\"_parent\"><img src=\"https://colab.research.google.com/assets/colab-badge.svg\" alt=\"Open In Colab\"/></a>"
      ]
    },
    {
      "cell_type": "code",
      "metadata": {
        "id": "EUE_WwWLpJV1",
        "colab_type": "code",
        "colab": {
          "base_uri": "https://localhost:8080/",
          "height": 331
        },
        "outputId": "20eda4b8-3c3b-4115-ce05-8d024b6dc0cb"
      },
      "source": [
        "from typing import List , Dict \n",
        "from collections import Counter \n",
        "import math \n",
        "import matplotlib.pyplot as plt \n",
        "import random \n",
        "\n",
        "Vector = List[float]\n",
        "\n",
        "def covariance(xs: List[float], ys: List[float]) -> float:\n",
        "    assert len(xs) == len(ys), \"xs and ys must have same number of elements\"\n",
        "\n",
        "    return dot(de_mean(xs), de_mean(ys)) / (len(xs) - 1)\n",
        "\n",
        "def dot(v: Vector, w: Vector) -> float:\n",
        "    \"\"\"Computes v_1 * w_1 + ... + v_n * w_n\"\"\"\n",
        "    assert len(v) == len(w), \"vectors must be same length\"\n",
        "\n",
        "    return sum(v_i * w_i for v_i, w_i in zip(v, w))\n",
        "\n",
        "def sum_of_squares(v: Vector) -> float:\n",
        "    \"\"\"Returns v_1 * v_1 + ... + v_n * v_n\"\"\"\n",
        "    return dot(v, v)\n",
        "\n",
        "def mean(xs: List[float]) -> float:\n",
        "    return sum(xs) / len(xs)\n",
        "\n",
        "def de_mean(xs: List[float]) -> List[float]:\n",
        "    \"\"\"Translate xs by subtracting its mean (so the result has mean 0)\"\"\"\n",
        "    x_bar = mean(xs)\n",
        "    return [x - x_bar for x in xs]\n",
        "\n",
        "def variance(xs: List[float]) -> float:\n",
        "    \"\"\"Almost the average squared deviation from the mean\"\"\"\n",
        "    assert len(xs) >= 2, \"variance requires at least two elements\"\n",
        "\n",
        "    n = len(xs)\n",
        "    deviations = de_mean(xs)\n",
        "    return sum_of_squares(deviations) / (n - 1)\n",
        "\n",
        "def standard_deviation(xs: List[float]) -> float:\n",
        "    \"\"\"The standard deviation is the square root of the variance\"\"\"\n",
        "    return math.sqrt(variance(xs))\n",
        "\n",
        "def correlation(xs: List[float], ys: List[float]) -> float:\n",
        "    \"\"\"Measures how much xs and ys vary in tandem about their means\"\"\"\n",
        "    stdev_x = standard_deviation(xs)\n",
        "    stdev_y = standard_deviation(ys)\n",
        "    if stdev_x > 0 and stdev_y > 0:\n",
        "        return covariance(xs, ys) / stdev_x / stdev_y\n",
        "    else:\n",
        "        return 0    # if no variation, correlation is zero\n",
        "\n",
        "def normal_cdf(x: float, mu: float = 0, sigma: float = 1) -> float:\n",
        "    return (1 + math.erf((x - mu) / math.sqrt(2) / sigma)) / 2\n",
        "\n",
        "def inverse_normal_cdf(p: float,\n",
        "                       mu: float = 0,\n",
        "                       sigma: float = 1,\n",
        "                       tolerance: float = 0.00001) -> float:\n",
        "    \"\"\"Find approximate inverse using binary search\"\"\"\n",
        "\n",
        "    # if not standard, compute standard and rescale\n",
        "    if mu != 0 or sigma != 1:\n",
        "        return mu + sigma * inverse_normal_cdf(p, tolerance=tolerance)\n",
        "\n",
        "    low_z = -10.0                      # normal_cdf(-10) is (very close to) 0\n",
        "    hi_z  =  10.0                      # normal_cdf(10)  is (very close to) 1\n",
        "    while hi_z - low_z > tolerance:\n",
        "        mid_z = (low_z + hi_z) / 2     # Consider the midpoint\n",
        "        mid_p = normal_cdf(mid_z)      # and the cdf's value there\n",
        "        if mid_p < p:\n",
        "            low_z = mid_z              # Midpoint too low, search above it\n",
        "        else:\n",
        "            hi_z = mid_z               # Midpoint too high, search below it\n",
        "\n",
        "    return mid_z\n",
        "\n",
        "def bucketize( point: float, bucket_size: float)-> float: \n",
        "  \"\"\" Floor the point to the next lower multiple of bucket_size\"\"\" \n",
        "  return bucket_size * math.floor( point / bucket_size)\n",
        "\n",
        "def make_histogram( points: List[ float], bucket_size: float)-> Dict[ float, int]: \n",
        "  \"\"\" Buckets the points and counts how many in each bucket\"\"\" \n",
        "  return Counter( bucketize( point, bucket_size) for point in points)\n",
        "\n",
        "def plot_histogram( points: List[ float], bucket_size: float, title: str = \"\"): \n",
        "  histogram = make_histogram( points, bucket_size) \n",
        "  plt.bar( histogram.keys(), histogram.values(), width = bucket_size) \n",
        "  plt.title( title)\n",
        "\n",
        "def random_normal()-> float: \n",
        "  \"\"\" Returns a random draw from a standard normal distribution\"\"\" \n",
        "  return inverse_normal_cdf( random.random())\n",
        "\n",
        "random.seed( 0)\n",
        "# uniform between-100 and 100 \n",
        "uniform = [200 * random.random()-100 for _ in range( 10000)]\n",
        "# normal distribution with mean 0, standard deviation 57 \n",
        "normal = [57 * inverse_normal_cdf( random.random()) for _ in range( 10000)]\n",
        "\n",
        "plot_histogram( uniform, 10, \"Uniform Histogram\")\n",
        "\n",
        "xs = [random_normal() for _ in range( 1000)] \n",
        "ys1 = [ x + random_normal() / 2 for x in xs] \n",
        "ys2 = [-x + random_normal() / 2 for x in xs]\n",
        "plt.scatter( xs, ys1, marker ='.', color ='black', label ='ys1')\n",
        "plt.scatter( xs, ys2, marker ='.', color ='gray', label ='ys2') \n",
        "plt.xlabel('xs') \n",
        "plt.ylabel('ys') \n",
        "plt.legend( loc = 9) \n",
        "plt.title(\"Very Different Joint Distributions\") \n",
        "plt.show()\n",
        "\n",
        "print( correlation( xs, ys1)) # about 0.9 \n",
        "print( correlation( xs, ys2)) # about-0.9"
      ],
      "execution_count": 9,
      "outputs": [
        {
          "output_type": "display_data",
          "data": {
            "image/png": "[encoded data removed]",
            "text/plain": [
              "<Figure size 432x288 with 1 Axes>"
            ]
          },
          "metadata": {
            "tags": []
          }
        },
        {
          "output_type": "stream",
          "text": [
            "0.9010493686379609\n",
            "-0.8920981526880033\n"
          ],
          "name": "stdout"
        }
      ]
    }
  ]
}