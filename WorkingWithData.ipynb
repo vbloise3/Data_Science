{
  "nbformat": 4,
  "nbformat_minor": 0,
  "metadata": {
    "colab": {
      "name": "WorkingWithData.ipynb",
      "version": "0.3.2",
      "provenance": [],
      "include_colab_link": true
    },
    "kernelspec": {
      "name": "python3",
      "display_name": "Python 3"
    }
  },
  "cells": [
    {
      "cell_type": "markdown",
      "metadata": {
        "id": "view-in-github",
        "colab_type": "text"
      },
      "source": [
        "<a href=\"https://colab.research.google.com/github/vbloise3/Data_Science/blob/master/WorkingWithData.ipynb\" target=\"_parent\"><img src=\"https://colab.research.google.com/assets/colab-badge.svg\" alt=\"Open In Colab\"/></a>"
      ]
    },
    {
      "cell_type": "code",
      "metadata": {
        "id": "EUE_WwWLpJV1",
        "colab_type": "code",
        "colab": {
          "base_uri": "https://localhost:8080/",
          "height": 281
        },
        "outputId": "1b6d8a8e-a3df-4bf8-c4e8-2e4383e0b287"
      },
      "source": [
        "from typing import List , Dict \n",
        "from collections import Counter \n",
        "import math \n",
        "import matplotlib.pyplot as plt \n",
        "import random \n",
        "\n",
        "def normal_cdf(x: float, mu: float = 0, sigma: float = 1) -> float:\n",
        "    return (1 + math.erf((x - mu) / math.sqrt(2) / sigma)) / 2\n",
        "\n",
        "def inverse_normal_cdf(p: float,\n",
        "                       mu: float = 0,\n",
        "                       sigma: float = 1,\n",
        "                       tolerance: float = 0.00001) -> float:\n",
        "    \"\"\"Find approximate inverse using binary search\"\"\"\n",
        "\n",
        "    # if not standard, compute standard and rescale\n",
        "    if mu != 0 or sigma != 1:\n",
        "        return mu + sigma * inverse_normal_cdf(p, tolerance=tolerance)\n",
        "\n",
        "    low_z = -10.0                      # normal_cdf(-10) is (very close to) 0\n",
        "    hi_z  =  10.0                      # normal_cdf(10)  is (very close to) 1\n",
        "    while hi_z - low_z > tolerance:\n",
        "        mid_z = (low_z + hi_z) / 2     # Consider the midpoint\n",
        "        mid_p = normal_cdf(mid_z)      # and the cdf's value there\n",
        "        if mid_p < p:\n",
        "            low_z = mid_z              # Midpoint too low, search above it\n",
        "        else:\n",
        "            hi_z = mid_z               # Midpoint too high, search below it\n",
        "\n",
        "    return mid_z\n",
        "\n",
        "def bucketize( point: float, bucket_size: float)-> float: \n",
        "  \"\"\" Floor the point to the next lower multiple of bucket_size\"\"\" \n",
        "  return bucket_size * math.floor( point / bucket_size)\n",
        "\n",
        "def make_histogram( points: List[ float], bucket_size: float)-> Dict[ float, int]: \n",
        "  \"\"\" Buckets the points and counts how many in each bucket\"\"\" \n",
        "  return Counter( bucketize( point, bucket_size) for point in points)\n",
        "\n",
        "def plot_histogram( points: List[ float], bucket_size: float, title: str = \"\"): \n",
        "  histogram = make_histogram( points, bucket_size) \n",
        "  plt.bar( histogram.keys(), histogram.values(), width = bucket_size) \n",
        "  plt.title( title)\n",
        "\n",
        "random.seed( 0)\n",
        "# uniform between-100 and 100 \n",
        "uniform = [200 * random.random()-100 for _ in range( 10000)]\n",
        "# normal distribution with mean 0, standard deviation 57 \n",
        "normal = [57 * inverse_normal_cdf( random.random()) for _ in range( 10000)]\n",
        "\n",
        "plot_histogram( uniform, 10, \"Uniform Histogram\")\n"
      ],
      "execution_count": 5,
      "outputs": [
        {
          "output_type": "display_data",
          "data": {
            "image/png": "[encoded data removed]",
            "text/plain": [
              "<Figure size 432x288 with 1 Axes>"
            ]
          },
          "metadata": {
            "tags": []
          }
        }
      ]
    }
  ]
}