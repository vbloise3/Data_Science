{
  "nbformat": 4,
  "nbformat_minor": 0,
  "metadata": {
    "colab": {
      "name": "GettingData.ipynb",
      "version": "0.3.2",
      "provenance": [],
      "include_colab_link": true
    },
    "kernelspec": {
      "name": "python3",
      "display_name": "Python 3"
    }
  },
  "cells": [
    {
      "cell_type": "markdown",
      "metadata": {
        "id": "view-in-github",
        "colab_type": "text"
      },
      "source": [
        "<a href=\"https://colab.research.google.com/github/vbloise3/Data_Science/blob/master/GettingData.ipynb\" target=\"_parent\"><img src=\"https://colab.research.google.com/assets/colab-badge.svg\" alt=\"Open In Colab\"/></a>"
      ]
    },
    {
      "cell_type": "code",
      "metadata": {
        "id": "3-FWdzN5N1fI",
        "colab_type": "code",
        "outputId": "28090f7b-4fdc-4f76-91b8-3862e5e3ff40",
        "colab": {
          "base_uri": "https://localhost:8080/",
          "height": 269
        }
      },
      "source": [
        "# Install the PyDrive wrapper & import libraries.\n",
        "# This only needs to be done once per notebook.\n",
        "import sys, re\n",
        "!pip install -U -q PyDrive\n",
        "from pydrive.auth import GoogleAuth\n",
        "from pydrive.drive import GoogleDrive\n",
        "from google.colab import auth\n",
        "from oauth2client.client import GoogleCredentials\n",
        "\n",
        "# Authenticate and create the PyDrive client.\n",
        "# This only needs to be done once per notebook.\n",
        "auth.authenticate_user()\n",
        "gauth = GoogleAuth()\n",
        "gauth.credentials = GoogleCredentials.get_application_default()\n",
        "drive = GoogleDrive(gauth)\n",
        "\n",
        "# Download a file based on its file ID.\n",
        "#\n",
        "# A file ID looks like: laggVyWshwcyP6kEI-y_W3P8D26sz\n",
        "#file_id = 'REPLACE_WITH_YOUR_FILE_ID'\n",
        "#downloaded = drive.CreateFile({'id': file_id})\n",
        "#print('Downloaded content \"{}\"'.format(downloaded.GetContentString()))\n",
        "\n",
        "# list files \n",
        "listed_txt = drive.ListFile({'q': \"title contains '.txt' and 'root' in parents\"}).GetList()\n",
        "listed_ipynb = drive.ListFile({'q': \"'1C9uuMFnTnllNbyaUWhsHk-PK0bDMpMuQ' in parents\"}).GetList()\n",
        "for file in listed_txt:\n",
        "  print('title {}. id {}'.format(file['title'], file['id']))\n",
        "for file in listed_ipynb:\n",
        "  print('title {}. id {}'.format(file['title'], file['id']))\n",
        "\n",
        "# sys.argv is the list of command-line arguments \n",
        "# sys.argv[ 0] is the name of the program itself \n",
        "# sys.argv[ 1] will be the regex specified at the command line \n",
        "# run it like this: cat SomeFile.txt | python egrep.py \"[ 0-9]\" | python line_count.py\n",
        "regex = sys.argv[ 1]\n",
        "some_lines = [\"one line \", \"two lines \", \"three! \"]\n",
        "\n",
        "# for every line passed into the script \n",
        "for line in sys.stdin: \n",
        "  # if it matches the regex, write it to stdout \n",
        "  if re.search( regex, line): \n",
        "    sys.stdout.write( line)\n",
        "for line in some_lines:\n",
        "  sys.stdout.write(line + \"\\n\")\n",
        "\n",
        "# email address domain stripper exaMPLE\n",
        "def get_domain( email_address: str)-> str: \n",
        "  \"\"\" Split on '@' and return the last piece\"\"\" \n",
        "  return email_address.lower(). split(\"@\")[-1]\n",
        "\n",
        "# a couple of tests \n",
        "assert get_domain(' joelgrus@gmail.com') == 'gmail.com'\n",
        "assert get_domain(' joel@m.datasciencester.com') == 'm.datasciencester.com'\n",
        "\n",
        "#with open(' email_addresses.txt', 'r') as f: \n",
        "#  domain_counts = Counter( get_domain( line.strip()) \n",
        "#  for line in f if \"@\" in line)\n"
      ],
      "execution_count": 17,
      "outputs": [
        {
          "output_type": "stream",
          "text": [
            "title data.txt. id 1yIcwI0LJVpw8rAel9DA8qcJeEfjllkun\n",
            "title GettingData.ipynb. id 1nKZv3XGsSPtW1WfrirQKRgWQ14s8mp8m\n",
            "title GradientDescent.ipynb. id 1OL130LGnKNLk9BbzbRekiaTOVBNPc903\n",
            "title PythonWorkoutChapter1.ipynb. id 1hQ_qWfn_tj8KBQspsqsIJQh8j_dqFq1e\n",
            "title HypothesisandInference.ipynb. id 1GngAYwLNtVi9kntFYbivstv_XoY6pP8q\n",
            "title Probability.ipynb. id 1SF6aug-J0inOZTWytKpr6F7s9Bf3nGO2\n",
            "title Statistics.ipynb. id 1FgvOUIxRhmt5J3KTj_CkTjEkx7W4Pvdz\n",
            "title Copy of Linear Algebra.ipynb. id 1nbLcny5T4AgdjB6fFa0oVrEq8UVx7u9r\n",
            "title Linear Algebra.ipynb. id 1az-uba8FteC7F1VbBXPCJYUHvUySKjLd\n",
            "title firstNN.ipynb. id 1m5fbJPk_nUkXUU1wzV5MmPBzX0Ztum75\n",
            "title testNN.ipynb. id 1M-yjGIWvGrS7muzi6-OHXPkSho0C2VKH\n",
            "one line \n",
            "two lines \n",
            "three! \n"
          ],
          "name": "stdout"
        }
      ]
    }
  ]
}