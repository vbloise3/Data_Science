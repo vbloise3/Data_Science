{
  "nbformat": 4,
  "nbformat_minor": 0,
  "metadata": {
    "colab": {
      "name": "GettingData.ipynb",
      "version": "0.3.2",
      "provenance": [],
      "include_colab_link": true
    },
    "kernelspec": {
      "name": "python3",
      "display_name": "Python 3"
    }
  },
  "cells": [
    {
      "cell_type": "markdown",
      "metadata": {
        "id": "view-in-github",
        "colab_type": "text"
      },
      "source": [
        "<a href=\"https://colab.research.google.com/github/vbloise3/Data_Science/blob/master/GettingData.ipynb\" target=\"_parent\"><img src=\"https://colab.research.google.com/assets/colab-badge.svg\" alt=\"Open In Colab\"/></a>"
      ]
    },
    {
      "cell_type": "code",
      "metadata": {
        "id": "3-FWdzN5N1fI",
        "colab_type": "code",
        "colab": {
          "base_uri": "https://localhost:8080/",
          "height": 71
        },
        "outputId": "1aa5449c-a3b0-4e91-c817-8d1796152502"
      },
      "source": [
        "import sys, re\n",
        "\n",
        "# sys.argv is the list of command-line arguments \n",
        "# sys.argv[ 0] is the name of the program itself \n",
        "# sys.argv[ 1] will be the regex specified at the command line \n",
        "regex = sys.argv[ 1]\n",
        "some_lines = [\"one line \", \"two lines \", \"three! \"]\n",
        "\n",
        "# for every line passed into the script \n",
        "for line in sys.stdin: \n",
        "  # if it matches the regex, write it to stdout \n",
        "  if re.search( regex, line): \n",
        "    sys.stdout.write( line)\n",
        "for line in some_lines:\n",
        "  sys.stdout.write(line + \"\\n\")\n"
      ],
      "execution_count": 4,
      "outputs": [
        {
          "output_type": "stream",
          "text": [
            "one line \n",
            "two lines \n",
            "three! \n"
          ],
          "name": "stdout"
        }
      ]
    }
  ]
}