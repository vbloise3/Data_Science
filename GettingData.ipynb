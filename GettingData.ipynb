{
  "nbformat": 4,
  "nbformat_minor": 0,
  "metadata": {
    "colab": {
      "name": "GettingData.ipynb",
      "version": "0.3.2",
      "provenance": [],
      "include_colab_link": true
    },
    "kernelspec": {
      "name": "python3",
      "display_name": "Python 3"
    }
  },
  "cells": [
    {
      "cell_type": "markdown",
      "metadata": {
        "id": "view-in-github",
        "colab_type": "text"
      },
      "source": [
        "<a href=\"https://colab.research.google.com/github/vbloise3/Data_Science/blob/master/GettingData.ipynb\" target=\"_parent\"><img src=\"https://colab.research.google.com/assets/colab-badge.svg\" alt=\"Open In Colab\"/></a>"
      ]
    },
    {
      "cell_type": "code",
      "metadata": {
        "id": "3-FWdzN5N1fI",
        "colab_type": "code",
        "colab": {
          "base_uri": "https://localhost:8080/",
          "height": 71
        },
        "outputId": "0b84df7c-16a8-4397-86d9-8cb8ad3052a1"
      },
      "source": [
        "import sys, re\n",
        "from collections import Counter\n",
        "\n",
        "# sys.argv is the list of command-line arguments \n",
        "# sys.argv[ 0] is the name of the program itself \n",
        "# sys.argv[ 1] will be the regex specified at the command line \n",
        "# run it like this: cat SomeFile.txt | python egrep.py \"[ 0-9]\" | python line_count.py\n",
        "regex = sys.argv[ 1]\n",
        "some_lines = [\"one line \", \"two lines \", \"three! \"]\n",
        "\n",
        "# for every line passed into the script \n",
        "for line in sys.stdin: \n",
        "  # if it matches the regex, write it to stdout \n",
        "  if re.search( regex, line): \n",
        "    sys.stdout.write( line)\n",
        "for line in some_lines:\n",
        "  sys.stdout.write(line + \"\\n\")\n",
        "\n",
        "# email address domain stripper exaMPLE\n",
        "def get_domain( email_address: str)-> str: \n",
        "  \"\"\" Split on '@' and return the last piece\"\"\" \n",
        "  return email_address.lower(). split(\"@\")[-1]\n",
        "\n",
        "# a couple of tests \n",
        "assert get_domain(' joelgrus@ gmail.com') == 'gmail.com'\n",
        "assert get_domain(' joel@ m.datasciencester.com') == 'm.datasciencester.com'\n",
        "\n",
        "#with open(' email_addresses.txt', 'r') as f: \n",
        "#  domain_counts = Counter( get_domain( line.strip()) \n",
        "#  for line in f if \"@\" in line)\n"
      ],
      "execution_count": 5,
      "outputs": [
        {
          "output_type": "stream",
          "text": [
            "one line \n",
            "two lines \n",
            "three! \n"
          ],
          "name": "stdout"
        }
      ]
    },
    {
      "cell_type": "code",
      "metadata": {
        "id": "6rA2fvf_TMQ8",
        "colab_type": "code",
        "colab": {}
      },
      "source": [
        ""
      ],
      "execution_count": 0,
      "outputs": []
    }
  ]
}